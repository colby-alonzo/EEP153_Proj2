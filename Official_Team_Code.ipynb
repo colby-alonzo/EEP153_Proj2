{
 "cells": [
  {
   "cell_type": "code",
   "execution_count": 1,
   "id": "584134d8-1cba-41ca-9a2f-620035e08c76",
   "metadata": {},
   "outputs": [
    {
     "name": "stdout",
     "output_type": "stream",
     "text": [
      "Requirement already satisfied: eep153_tools in /srv/conda/lib/python3.11/site-packages (0.12.4)\n",
      "Note: you may need to restart the kernel to use updated packages.\n",
      "Requirement already satisfied: python_gnupg in /srv/conda/lib/python3.11/site-packages (0.5.4)\n",
      "Note: you may need to restart the kernel to use updated packages.\n",
      "Requirement already satisfied: gspread_pandas in /srv/conda/lib/python3.11/site-packages (3.3.0)\n",
      "Requirement already satisfied: gspread<6,>=5.0.0 in /srv/conda/lib/python3.11/site-packages (from gspread_pandas) (5.12.4)\n",
      "Requirement already satisfied: pandas>=0.20.0 in /srv/conda/lib/python3.11/site-packages (from gspread_pandas) (2.2.3)\n",
      "Requirement already satisfied: decorator in /srv/conda/lib/python3.11/site-packages (from gspread_pandas) (5.1.1)\n",
      "Requirement already satisfied: google-auth in /srv/conda/lib/python3.11/site-packages (from gspread_pandas) (2.38.0)\n",
      "Requirement already satisfied: google-auth-oauthlib in /srv/conda/lib/python3.11/site-packages (from gspread_pandas) (1.2.1)\n",
      "Requirement already satisfied: cachetools<6.0,>=2.0.0 in /srv/conda/lib/python3.11/site-packages (from google-auth->gspread_pandas) (5.5.1)\n",
      "Requirement already satisfied: pyasn1-modules>=0.2.1 in /srv/conda/lib/python3.11/site-packages (from google-auth->gspread_pandas) (0.4.1)\n",
      "Requirement already satisfied: rsa<5,>=3.1.4 in /srv/conda/lib/python3.11/site-packages (from google-auth->gspread_pandas) (4.9)\n",
      "Requirement already satisfied: requests-oauthlib>=0.7.0 in /srv/conda/lib/python3.11/site-packages (from google-auth-oauthlib->gspread_pandas) (2.0.0)\n",
      "Requirement already satisfied: numpy>=1.23.2 in /srv/conda/lib/python3.11/site-packages (from pandas>=0.20.0->gspread_pandas) (2.2.3)\n",
      "Requirement already satisfied: python-dateutil>=2.8.2 in /srv/conda/lib/python3.11/site-packages (from pandas>=0.20.0->gspread_pandas) (2.9.0.post0)\n",
      "Requirement already satisfied: pytz>=2020.1 in /srv/conda/lib/python3.11/site-packages (from pandas>=0.20.0->gspread_pandas) (2024.1)\n",
      "Requirement already satisfied: tzdata>=2022.7 in /srv/conda/lib/python3.11/site-packages (from pandas>=0.20.0->gspread_pandas) (2025.1)\n",
      "Requirement already satisfied: pyasn1<0.7.0,>=0.4.6 in /srv/conda/lib/python3.11/site-packages (from pyasn1-modules>=0.2.1->google-auth->gspread_pandas) (0.6.1)\n",
      "Requirement already satisfied: six>=1.5 in /srv/conda/lib/python3.11/site-packages (from python-dateutil>=2.8.2->pandas>=0.20.0->gspread_pandas) (1.17.0)\n",
      "Requirement already satisfied: oauthlib>=3.0.0 in /srv/conda/lib/python3.11/site-packages (from requests-oauthlib>=0.7.0->google-auth-oauthlib->gspread_pandas) (3.2.2)\n",
      "Requirement already satisfied: requests>=2.0.0 in /srv/conda/lib/python3.11/site-packages (from requests-oauthlib>=0.7.0->google-auth-oauthlib->gspread_pandas) (2.32.3)\n",
      "Requirement already satisfied: charset_normalizer<4,>=2 in /srv/conda/lib/python3.11/site-packages (from requests>=2.0.0->requests-oauthlib>=0.7.0->google-auth-oauthlib->gspread_pandas) (3.4.0)\n",
      "Requirement already satisfied: idna<4,>=2.5 in /srv/conda/lib/python3.11/site-packages (from requests>=2.0.0->requests-oauthlib>=0.7.0->google-auth-oauthlib->gspread_pandas) (3.10)\n",
      "Requirement already satisfied: urllib3<3,>=1.21.1 in /srv/conda/lib/python3.11/site-packages (from requests>=2.0.0->requests-oauthlib>=0.7.0->google-auth-oauthlib->gspread_pandas) (2.3.0)\n",
      "Requirement already satisfied: certifi>=2017.4.17 in /srv/conda/lib/python3.11/site-packages (from requests>=2.0.0->requests-oauthlib>=0.7.0->google-auth-oauthlib->gspread_pandas) (2024.12.14)\n",
      "Note: you may need to restart the kernel to use updated packages.\n"
     ]
    }
   ],
   "source": [
    "# Import and Install Necessary Packages\n",
    "%pip install eep153_tools\n",
    "%pip install python_gnupg\n",
    "%pip install -U gspread_pandas\n",
    "\n",
    "import pandas as pd\n",
    "from eep153_tools.sheets import read_sheets\n",
    "import re\n",
    "from scipy.optimize import linprog as lp\n",
    "import numpy as np"
   ]
  },
  {
   "cell_type": "markdown",
   "id": "b99e125f-ea00-4d7f-931a-e80a413abfde",
   "metadata": {},
   "source": [
    "### Helper Function for Formatting IDs\n",
    "\n",
    "This code defines a helper function `format_id` which takes an ID and an optional zero-padding parameter. It returns a formatted string version of the ID if possible. The function handles cases where the ID might be null, empty, or in a non-standard format. The code also sets a data URL for reference."
   ]
  },
  {
   "cell_type": "code",
   "execution_count": 2,
   "id": "5a42caf8-4e23-4f12-a20e-fd51459a5afe",
   "metadata": {},
   "outputs": [],
   "source": [
    "# Helper function to format an ID with optional zero-padding\n",
    "def format_id(id, zeropadding=0):\n",
    "    # Check if the id is null or an empty string or a dot, return None in such cases\n",
    "    if pd.isnull(id) or id in ['', '.']:\n",
    "        return None\n",
    "\n",
    "    try:\n",
    "        # Try converting the id to an integer and format it with zero-padding\n",
    "        return ('%d' % id).zfill(zeropadding)\n",
    "    except TypeError:\n",
    "        # If a TypeError occurs, split the id by a period and take the first part, then remove any extra spaces and pad it\n",
    "        return id.split('.')[0].strip().zfill(zeropadding)\n",
    "    except ValueError:\n",
    "        # If a ValueError occurs during conversion, return None\n",
    "        return None\n",
    "\n",
    "# URL to the data source (Google Spreadsheet)\n",
    "data_url = \"https://docs.google.com/spreadsheets/d/1z7hB1hWocUePYeoBpvR0_UW3LdX9MV82IwzpClkmsr4/edit?gid=1410082681#gid=1410082681\"\n"
   ]
  },
  {
   "cell_type": "markdown",
   "id": "ae5eaacd-8c8f-4814-8d8f-b40b7cf4a204",
   "metadata": {},
   "source": [
    "### Load and Clean Data\n",
    "\n",
    "This code loads the original recipes data from a Google Sheet, applies formatting to specific columns using the `format_id` helper function, and renames one of the columns for clarity.\n"
   ]
  },
  {
   "cell_type": "code",
   "execution_count": 4,
   "id": "586f1c01-74d9-437b-826d-fa786c0e3530",
   "metadata": {},
   "outputs": [],
   "source": [
    "# Load the original recipes data from the specified Google Sheet (sheet named \"recipes\")\n",
    "og_recipes = read_sheets(data_url, sheet=\"recipes\")\n",
    "\n",
    "# Clean and transform the data:\n",
    "# - Apply the format_id function to 'parent_foodcode' and 'ingred_code' columns to standardize their format\n",
    "# - Rename the 'parent_desc' column to 'recipe' for better clarity\n",
    "og_recipes = (og_recipes\n",
    "              .assign(\n",
    "                  parent_foodcode=lambda df: df[\"parent_foodcode\"].apply(format_id),\n",
    "                  ingred_code=lambda df: df[\"ingred_code\"].apply(format_id)\n",
    "              )\n",
    "              .rename(columns={\"parent_desc\": \"recipe\"}))"
   ]
  },
  {
   "cell_type": "code",
   "execution_count": 5,
   "id": "e5f42338-a7ea-48ef-83b6-a8454df68c56",
   "metadata": {},
   "outputs": [],
   "source": [
    "# Define a list of key food items to search for in ingredient descriptions\n",
    "key_foods = [\n",
    "    \"Yogurt, Greek\", \"Cheese, Cottage\", \"Milk\", \"Cheese, Parmesan\", \"Banana\", \"Apple\", \"Orange\",\n",
    "    \"Avocado\", \"figs\", \"dates\", \"raisins\", \"apricots, dried\", \"Grapefruit\", \"Grapes\",\n",
    "    \"pear\", \"Peach\", \"watermelon\", \"Oats\", \"Bread, rye\", \"Brown Rice\", \"Pasta\",\n",
    "    \"Quinoa\", \"Rolled Oats\", \"Rice Cakes\", \"Whole Grain Cereal\", \"Special K\", \"Bread, whole-wheat\", \n",
    "    \"Bread, whole-mutligrain\", \"Popcorn, Air-popped\", \"Millet\",\n",
    "    \"whole grain pasta\", \"Almonds\", \"Peanut Butter\", \"Chicken\", \"Egg\", \"Tofu\",\n",
    "    \"Lentils\", \"Beans, Black\", \"Tuna\", \"Salmon\", \"Lean\", \"raw\", \"Soup, Bean \",\n",
    "    \"Steak\", \"Tilapia\", \"Pork\", \"Venison\", \"Cod\", \"Ground turkey\", \"turkey, Ground\",\n",
    "    \"beef, ground\", \"Ground beef\", \"Tempeh\", \"chickpea\", \"beans, kidney\", \"Sweet Potato\", \"Potato\",\n",
    "    \"Spinach\", \"Broccoli\", \"Bell Pepper\", \"Carrot\", \"Beets\", \"peas\", \"Tomato\",\n",
    "    \"Creatine\", \"Omega-3\", \"BCAAs\", \"Blueberries\", \"Strawberries\",\n",
    "    \"Garlic\", \"Lemon\", \"Onion\", \"Asparagus\", \"kale\", \"collards\", \"chard, swiss\", \"protein powder\", \"brussel sprouts\", \n",
    "]\n",
    "\n",
    "# Escape each key food item to safely use them in a regular expression\n",
    "escaped_key_foods = [re.escape(food) for food in key_foods]\n",
    "\n",
    "# Create a single regex pattern that matches any of the key foods\n",
    "pattern = '|'.join(escaped_key_foods)\n",
    "\n",
    "# Group the recipes by 'parent_foodcode' (meal identifier)\n",
    "# For each meal, check if any ingredient description contains one of the key foods (case-insensitive)\n",
    "meal_mask = og_recipes.groupby('parent_foodcode')['ingred_desc'] \\\n",
    "                   .transform(lambda x: x.str.contains(pattern, case=False, na=False).any())\n",
    "\n",
    "# Filter the original recipes to keep only meals where at least one key food was found\n",
    "recipes = og_recipes[meal_mask]"
   ]
  },
  {
   "cell_type": "code",
   "execution_count": 6,
   "id": "1a79e8ca-8203-4bf8-9927-a7516310a62b",
   "metadata": {},
   "outputs": [],
   "source": [
    "# Load nutrition data and merge\n",
    "nutrition = read_sheets(data_url, sheet=\"nutrients\") \\\n",
    "            .assign(ingred_code=lambda df: df[\"ingred_code\"].apply(format_id))"
   ]
  },
  {
   "cell_type": "markdown",
   "id": "8a83faab-efdf-4475-ac00-608586137b5c",
   "metadata": {},
   "source": [
    "### Process and Aggregate Nutrient Information\n",
    "\n",
    "This section makes a copy of the filtered recipes, normalizes ingredient weights to percentages, and merges nutrient information. Then, it scales nutrient values by their ingredient's normalized weight and aggregates the nutrient profile by meal. Finally, the code extracts recipe names for further use."
   ]
  },
  {
   "cell_type": "code",
   "execution_count": 8,
   "id": "4ba2a6cd-25a1-4951-9449-2258f814d294",
   "metadata": {},
   "outputs": [],
   "source": [
    "# Make an explicit copy of recipes before modifying\n",
    "recipes = recipes.copy()\n",
    "\n",
    "# Normalize ingredient weights to percentages by dividing by the total weight per meal.\n",
    "# Using .loc for assignment ensures we're modifying the DataFrame in place.\n",
    "recipes.loc[:, 'ingred_wt'] = recipes['ingred_wt'] / recipes.groupby('parent_foodcode')['ingred_wt'].transform(\"sum\")\n",
    "\n",
    "# Merge nutrient information into recipes on the 'ingred_code' column.\n",
    "# This performs a left join, ensuring all recipes are kept.\n",
    "df = recipes.merge(nutrition, how=\"left\", on=\"ingred_code\")\n",
    "\n",
    "# Identify numeric columns (e.g., nutrient values) in the merged DataFrame.\n",
    "numeric_cols = list(df.select_dtypes(include=[\"number\"]).columns)\n",
    "\n",
    "# Remove 'ingred_wt' from the list as we don't want to scale it.\n",
    "numeric_cols.remove(\"ingred_wt\")\n",
    "\n",
    "# Multiply each nutrient value by the normalized ingredient weight to get weighted nutrient values.\n",
    "df[numeric_cols] = df[numeric_cols].mul(df[\"ingred_wt\"], axis=0)\n",
    "\n",
    "# Aggregate nutrient profiles by meal (identified by 'parent_foodcode').\n",
    "# For nutrient columns, sum their weighted values; for the recipe name, take the first occurrence.\n",
    "df = df.groupby('parent_foodcode').agg({\n",
    "    **{col: \"sum\" for col in numeric_cols},\n",
    "    \"recipe\": \"first\"\n",
    "})\n",
    "\n",
    "# Rename the index to 'recipe_id' for clarity.\n",
    "df.index.name = \"recipe_id\"\n",
    "\n",
    "# Extract recipe names for further use.\n",
    "food_names = df[\"recipe\"]"
   ]
  },
  {
   "cell_type": "markdown",
   "id": "a5504ad4-a614-4d7c-9baa-e45c2cb9b18a",
   "metadata": {},
   "source": [
    "### Load Prices and Map to Food Names\n",
    "\n",
    "This code loads pricing data from a Google Sheet, applies ID formatting, and filters prices for a specific year. It then matches the price data with the corresponding recipes based on common food codes, maps the prices to food names, and prepares a transposed version of the nutrient data for further analysis.\n"
   ]
  },
  {
   "cell_type": "code",
   "execution_count": 9,
   "id": "1ba86d19-5b89-4fee-a88d-fae5afad9041",
   "metadata": {},
   "outputs": [],
   "source": [
    "# Load prices data from the \"prices\" sheet, selecting only the necessary columns.\n",
    "prices = read_sheets(data_url, sheet=\"prices\")[[\"food_code\", \"year\", \"price\"]]\n",
    "\n",
    "# Format the 'food_code' column using the helper function 'format_id'\n",
    "prices[\"food_code\"] = prices[\"food_code\"].apply(format_id)\n",
    "\n",
    "# Set a multi-index using 'year' and 'food_code' for easier slicing and alignment.\n",
    "prices = prices.set_index([\"year\", \"food_code\"])\n",
    "\n",
    "# Filter the prices data to include only records for the year \"2017/2018\".\n",
    "prices = prices.xs(\"2017/2018\", level=\"year\")\n",
    "\n",
    "# Remove rows where the price is missing.\n",
    "prices = prices.dropna(subset=\"price\")\n",
    "\n",
    "# Find the intersection of food codes that are common between our aggregated recipes (df) and the prices data.\n",
    "common_recipes = df.index.intersection(prices.index)\n",
    "\n",
    "# Subset both the recipes and prices data to only include common recipes.\n",
    "df = df.loc[common_recipes]\n",
    "prices = prices.loc[common_recipes]\n",
    "\n",
    "# Map the index (food codes) in the prices data to food names using the previously extracted 'food_names' series.\n",
    "prices.index = prices.index.map(food_names)\n",
    "\n",
    "# Transpose the nutrient data for further analysis or processing.\n",
    "A_all = df.T"
   ]
  },
  {
   "cell_type": "code",
   "execution_count": null,
   "id": "c9bd80e1-029e-4613-b751-43f89799efa1",
   "metadata": {},
   "outputs": [],
   "source": []
  },
  {
   "cell_type": "code",
   "execution_count": null,
   "id": "5babff81-51c8-4675-9d27-927d11d5d7b4",
   "metadata": {},
   "outputs": [],
   "source": []
  },
  {
   "cell_type": "code",
   "execution_count": null,
   "id": "c451d3af-4e70-4636-b078-854261a62e2d",
   "metadata": {},
   "outputs": [],
   "source": []
  },
  {
   "cell_type": "code",
   "execution_count": null,
   "id": "3baeab72-1506-4c62-a0e7-39ce9b681d40",
   "metadata": {},
   "outputs": [],
   "source": []
  },
  {
   "cell_type": "code",
   "execution_count": null,
   "id": "301c7c67-e6a6-4915-9463-98ec6b6cf90d",
   "metadata": {},
   "outputs": [],
   "source": []
  }
 ],
 "metadata": {
  "kernelspec": {
   "display_name": "Python 3 (ipykernel)",
   "language": "python",
   "name": "python3"
  },
  "language_info": {
   "codemirror_mode": {
    "name": "ipython",
    "version": 3
   },
   "file_extension": ".py",
   "mimetype": "text/x-python",
   "name": "python",
   "nbconvert_exporter": "python",
   "pygments_lexer": "ipython3",
   "version": "3.11.11"
  }
 },
 "nbformat": 4,
 "nbformat_minor": 5
}
